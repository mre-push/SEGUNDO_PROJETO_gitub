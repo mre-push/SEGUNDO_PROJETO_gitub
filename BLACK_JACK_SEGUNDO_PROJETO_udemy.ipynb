{
 "cells": [
  {
   "cell_type": "markdown",
   "id": "7d226b5a",
   "metadata": {},
   "source": [
    "# CORREÇÃO:"
   ]
  },
  {
   "cell_type": "code",
   "execution_count": 12,
   "id": "82de1436",
   "metadata": {},
   "outputs": [],
   "source": [
    "# Embaralhar cartas\n",
    "import random \n",
    "playing = False \n",
    "chip_pool = 100\n",
    "\n",
    "bet = 1\n",
    "\n",
    "restart_phrase = \"Press 'd' shuffle again or press 'q' to leave.\""
   ]
  },
  {
   "cell_type": "code",
   "execution_count": 13,
   "id": "23fe51f0",
   "metadata": {},
   "outputs": [],
   "source": [
    "suits = ('H','D','C','S')\n",
    "ranking = ('A', '2', '3','4','5','6','7','8','9','10','J','Q','K')\n",
    "card_val = {'A':1, '2':2, '3':3, '4':4, '5':5, '6':6, '7':7, '8':8, '9':9, '10':10, 'J':10, 'Q':10, 'K':10}"
   ]
  },
  {
   "cell_type": "code",
   "execution_count": 14,
   "id": "3e3d1396",
   "metadata": {},
   "outputs": [],
   "source": [
    "class Card:\n",
    "    def __init__(self, suit, rank):\n",
    "        self.suit = suit\n",
    "        self.rank = rank\n",
    "        \n",
    "    def __str__(self):\n",
    "        return self.suit + self.rank\n",
    "    \n",
    "    def grab_suit(self):\n",
    "        return self.suit\n",
    "    \n",
    "    def grab_rank(self):\n",
    "        return self.rank\n",
    "    \n",
    "    def draw(self):\n",
    "        print(self.suit + self.rank)      "
   ]
  },
  {
   "cell_type": "code",
   "execution_count": 15,
   "id": "71314a2b",
   "metadata": {},
   "outputs": [],
   "source": [
    "class Hand:\n",
    "    def __init__(self):\n",
    "        self.cards = []\n",
    "        self.value = 0\n",
    "        self.ace = False\n",
    "    \n",
    "    def __str__(self):\n",
    "        hand_comp = \"\"\n",
    "        \n",
    "        for card in self.cards:\n",
    "            card_name = card.__str__()\n",
    "            hand_comp += \" \" + card_name\n",
    "        return \"The hand has { }\".format(hand_comp)\n",
    "    \n",
    "    def card_add(self, card):\n",
    "        self.cards.append(card)\n",
    "        \n",
    "        if card.rank == 'A':\n",
    "            self.ace == True\n",
    "        self.value += card_val[card.rank]\n",
    "        \n",
    "    def calc_val(self):\n",
    "        if (self.ace == 'True' and self.value < 12):\n",
    "            return self.value + 10\n",
    "        else:\n",
    "            return self.value\n",
    "        \n",
    "    def draw(self, hidden):\n",
    "        if hidden == True and playing == True:\n",
    "            starting_card = 1\n",
    "        else:\n",
    "            starting_card = 0\n",
    "        for x in range(starting_card, len(self.cards)):\n",
    "            self.cards[x].draw()\n",
    "            "
   ]
  },
  {
   "cell_type": "code",
   "execution_count": 27,
   "id": "052ca27b",
   "metadata": {},
   "outputs": [],
   "source": [
    "class Deck:\n",
    "    \n",
    "    def __init__(self):\n",
    "        self.deck = []\n",
    "        \n",
    "        for suit in suits:\n",
    "            for rank in ranking:\n",
    "                self.deck.append(Card(suit, rank))\n",
    "                \n",
    "    def shuffle(self):\n",
    "        random.shuffle(self.deck)\n",
    "\n",
    "    def deal(self):\n",
    "        single_card = self.deck.pop()\n",
    "        return single_card\n",
    "\n",
    "    def __str__(self):\n",
    "        deck_comp = \" \"\n",
    "        for card in self.deck:\n",
    "            deck_comp += \" \" + card.__str__()\n",
    "\n",
    "        return \"The deck has\" + deck_comp\n"
   ]
  },
  {
   "cell_type": "code",
   "execution_count": 28,
   "id": "a42eeeda",
   "metadata": {},
   "outputs": [],
   "source": [
    "def make_bet():\n",
    "    global bet\n",
    "    bet = 0\n",
    "    \n",
    "    print(\"What amount of chips you like to bet? (Enter whole integer please)\")\n",
    "    \n",
    "    while bet == 0:\n",
    "        bet_comp = input()\n",
    "        bet_comp = int(bet_comp)\n",
    "        \n",
    "        if bet_comp >= 1 and bet_comp <= chip_pool:\n",
    "            bet = bet_comp\n",
    "        else:\n",
    "            print(\"Invalid bet. You have only\" + str(chip_pool)) + \"chips remaining. \""
   ]
  },
  {
   "cell_type": "code",
   "execution_count": 29,
   "id": "8a747534",
   "metadata": {},
   "outputs": [],
   "source": [
    "def deal_cards():\n",
    "    global result, playing, deck, player_hand, dealer_hand, chip_pool, bet\n",
    "    \n",
    "    deck = Deck()\n",
    "    deck.shuffle()\n",
    "    \n",
    "    make_bet()\n",
    "    \n",
    "    player_hand = Hand()\n",
    "    dealer_hand = Hand()\n",
    "    \n",
    "    #2 cartas para o jogador\n",
    "    player_hand.card_add(deck.deal())\n",
    "    player_hand.card_add(deck.deal())\n",
    "    #2 cartas para o dealer\n",
    "    dealer_hand.card_add(deck.deal())\n",
    "    dealer_hand.card_add(deck.deal())\n",
    "    \n",
    "    result = \" Hit or Stand? Press 'h' or 's' \"\n",
    "    \n",
    "    \n",
    "    playing = True\n",
    "    game_step()"
   ]
  },
  {
   "cell_type": "code",
   "execution_count": 30,
   "id": "701608c5",
   "metadata": {},
   "outputs": [],
   "source": [
    "def hit():\n",
    "    global playing, chip_pool, deck, player_hand, dealer_hand, result, bet\n",
    "    \n",
    "    if playing:\n",
    "        if player_han.calc_val() <= 21:\n",
    "            player_hand.card_add(deck.deal())\n",
    "        print(\"Player hand is %s \" %player_hand)\n",
    "        \n",
    "        if player_han.calc_val() >= 21:\n",
    "            result = \"Busted: \" + restart_phrase\n",
    "            chip_pool -= bet\n",
    "            playing = False\n",
    "        print(\"Player hand is %s \" %player_hand)\n",
    "        \n",
    "    else:\n",
    "        result = \"Sorry, can't hit! \" + restart_phrase\n",
    "        \n",
    "    game_step()"
   ]
  },
  {
   "cell_type": "code",
   "execution_count": 31,
   "id": "eca9e550",
   "metadata": {},
   "outputs": [],
   "source": [
    "def stand():\n",
    "    global playing, chip_pool, deck, player_hand, dealer_hand, result, bet\n",
    "    \n",
    "    if playing == False:\n",
    "        if player_hand.calc_val() > 0:\n",
    "            result = \" Sorry, you can't stand ! \"\n",
    "    \n",
    "    else:\n",
    "        while dealer_hand.calc_val() < 17:\n",
    "            dealer_hand.card_add(deck.deal())\n",
    "            \n",
    "        if dealer_hand.calc_val() > 17:\n",
    "            result = \"Dealer busts ! Você ganhou ! \" + restart_phrase\n",
    "            chip_pool += bet\n",
    "            playing = False\n",
    "        \n",
    "        elif dealer_hand.calc_val() < player_hand.calc_val():\n",
    "            result = \"You bet dealer ! Você ganhou ! \" + restart_phrase\n",
    "            chip_pool += bet\n",
    "            playing = False\n",
    "            \n",
    "        elif dealer_hand.calc_val() < player_hand.calc_val():\n",
    "            result = \"Tied up!\" + restart_phrase \n",
    "            playing = False\n",
    "            \n",
    "        else:\n",
    "            result  = \"Dealer wins ! \" + restart_phrase\n",
    "            chip_pool -= bet\n",
    "            playing = False\n",
    "            \n",
    "    game_step()"
   ]
  },
  {
   "cell_type": "code",
   "execution_count": 32,
   "id": "71c026d6",
   "metadata": {},
   "outputs": [],
   "source": [
    "def game_step():\n",
    "    print(\" \")\n",
    "    print(\"Player hand is: \")\n",
    "    player_hand.draw(hidden = False)\n",
    "    print(\"Player hand total is: \" + str(player_hand.calc_val()))\n",
    "    \n",
    "    print(\" \")\n",
    "    print(\"Dealer hand is: \")\n",
    "    dealer_hand.draw(hidden = True)\n",
    "    print(\"Dealer hand total is: \" + str(dealer_hand.calc_val()))\n",
    "    \n",
    "    if playing == False:\n",
    "        print(\"CHip total : \" +str(chip_pool))\n",
    "        \n",
    "    print(result)\n",
    "    \n",
    "    player_input()"
   ]
  },
  {
   "cell_type": "code",
   "execution_count": 33,
   "id": "99a8a918",
   "metadata": {},
   "outputs": [],
   "source": [
    "def game_exit():\n",
    "    print(\"Thanks for playing: \")\n",
    "    exit()"
   ]
  },
  {
   "cell_type": "code",
   "execution_count": 34,
   "id": "ae6a7791",
   "metadata": {},
   "outputs": [],
   "source": [
    "def player_input():\n",
    "    plin = input().lower()\n",
    "    \n",
    "    if plin == \"h\":\n",
    "        hit()\n",
    "    elif plin == \"s\":\n",
    "        stand()\n",
    "    elif plin == \"d\":\n",
    "        deal_cards()\n",
    "    elif plin == \"q\":\n",
    "        game_exit()\n",
    "    else:\n",
    "        print(\"Invalid input... Enter h, s, d or q: \")\n",
    "        player_input()"
   ]
  },
  {
   "cell_type": "code",
   "execution_count": 35,
   "id": "31fe2f52",
   "metadata": {},
   "outputs": [],
   "source": [
    "def intro():\n",
    "    statement = \" Welcome to blackjackt as close to 21 game. \"\n",
    "    print (statement)"
   ]
  },
  {
   "cell_type": "code",
   "execution_count": null,
   "id": "33a73e57",
   "metadata": {},
   "outputs": [
    {
     "name": "stdout",
     "output_type": "stream",
     "text": [
      " Welcome to blackjackt as close to 21 game. \n",
      "What amount of chips you like to bet? (Enter whole integer please)\n"
     ]
    }
   ],
   "source": [
    "deck = Deck()\n",
    "deck.shuffle()\n",
    "\n",
    "player_hand = Hand()\n",
    "dealder_hand = Hand()\n",
    "\n",
    "intro()\n",
    "deal_cards()"
   ]
  },
  {
   "cell_type": "code",
   "execution_count": null,
   "id": "79cb0f00",
   "metadata": {},
   "outputs": [],
   "source": []
  }
 ],
 "metadata": {
  "kernelspec": {
   "display_name": "Python 3 (ipykernel)",
   "language": "python",
   "name": "python3"
  },
  "language_info": {
   "codemirror_mode": {
    "name": "ipython",
    "version": 3
   },
   "file_extension": ".py",
   "mimetype": "text/x-python",
   "name": "python",
   "nbconvert_exporter": "python",
   "pygments_lexer": "ipython3",
   "version": "3.11.4"
  }
 },
 "nbformat": 4,
 "nbformat_minor": 5
}
